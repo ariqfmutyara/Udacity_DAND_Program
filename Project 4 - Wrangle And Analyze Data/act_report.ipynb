{
 "cells": [
  {
   "cell_type": "markdown",
   "metadata": {},
   "source": [
    "# Data Wrangling Udacity Project\n",
    "###### Muhammad Ariq Farhansyah Mutyara\n",
    "## Introduction\n",
    "WeRateDogs is a Twitter account that rates people's dogs with a humorous comment about the dog. These ratings almost always have a denominator of 10. The numerators, though? Almost always greater than 10. 11/10, 12/10, 13/10, etc. Why? Because \"they're good dogs Brent.\" WeRateDogs has over 4 million followers and has received international media coverage.\n",
    "So is there any interest fact from this twitter account? What is the most and least rated dog type? What is the most and least favorite dog type? What is the most common dog type occured? or is there any kind of relationship between retweeted tweet and favorite tweet? Let us find out "
   ]
  },
  {
   "cell_type": "code",
   "execution_count": 1,
   "metadata": {},
   "outputs": [
    {
     "data": {
      "text/html": [
       "<div>\n",
       "<style scoped>\n",
       "    .dataframe tbody tr th:only-of-type {\n",
       "        vertical-align: middle;\n",
       "    }\n",
       "\n",
       "    .dataframe tbody tr th {\n",
       "        vertical-align: top;\n",
       "    }\n",
       "\n",
       "    .dataframe thead th {\n",
       "        text-align: right;\n",
       "    }\n",
       "</style>\n",
       "<table border=\"1\" class=\"dataframe\">\n",
       "  <thead>\n",
       "    <tr style=\"text-align: right;\">\n",
       "      <th></th>\n",
       "      <th>tweet_id</th>\n",
       "      <th>timestamp</th>\n",
       "      <th>text</th>\n",
       "      <th>expanded_urls</th>\n",
       "      <th>rating_numerator</th>\n",
       "      <th>rating_denominator</th>\n",
       "      <th>name</th>\n",
       "      <th>dog_stage</th>\n",
       "      <th>jpg_url</th>\n",
       "      <th>dog_type</th>\n",
       "      <th>conf_rate</th>\n",
       "      <th>retweet_count</th>\n",
       "      <th>favorite_count</th>\n",
       "    </tr>\n",
       "  </thead>\n",
       "  <tbody>\n",
       "    <tr>\n",
       "      <th>0</th>\n",
       "      <td>667550904950915073</td>\n",
       "      <td>2015-11-20 03:51:52</td>\n",
       "      <td>RT @dogratingrating: Exceptional talent. Origi...</td>\n",
       "      <td>https://twitter.com/dogratingrating/status/667...</td>\n",
       "      <td>12</td>\n",
       "      <td>10</td>\n",
       "      <td>None</td>\n",
       "      <td>None</td>\n",
       "      <td>https://pbs.twimg.com/media/CUOb_gUUkAACXdS.jpg</td>\n",
       "      <td>vizsla</td>\n",
       "      <td>0.000081</td>\n",
       "      <td>31.0</td>\n",
       "      <td>0.0</td>\n",
       "    </tr>\n",
       "    <tr>\n",
       "      <th>1</th>\n",
       "      <td>667550882905632768</td>\n",
       "      <td>2015-11-20 03:51:47</td>\n",
       "      <td>RT @dogratingrating: Unoriginal idea. Blatant ...</td>\n",
       "      <td>https://twitter.com/dogratingrating/status/667...</td>\n",
       "      <td>5</td>\n",
       "      <td>10</td>\n",
       "      <td>None</td>\n",
       "      <td>None</td>\n",
       "      <td>https://pbs.twimg.com/media/CUObvUJVEAAnYPF.jpg</td>\n",
       "      <td>None</td>\n",
       "      <td>0.000000</td>\n",
       "      <td>31.0</td>\n",
       "      <td>0.0</td>\n",
       "    </tr>\n",
       "    <tr>\n",
       "      <th>2</th>\n",
       "      <td>667549055577362432</td>\n",
       "      <td>2015-11-20 03:44:31</td>\n",
       "      <td>Never seen dog like this. Breathes heavy. Tilt...</td>\n",
       "      <td>https://twitter.com/dog_rates/status/667549055...</td>\n",
       "      <td>1</td>\n",
       "      <td>10</td>\n",
       "      <td>None</td>\n",
       "      <td>None</td>\n",
       "      <td>https://pbs.twimg.com/media/CUOcVCwWsAERUKY.jpg</td>\n",
       "      <td>None</td>\n",
       "      <td>0.000000</td>\n",
       "      <td>2112.0</td>\n",
       "      <td>5476.0</td>\n",
       "    </tr>\n",
       "    <tr>\n",
       "      <th>3</th>\n",
       "      <td>667546741521195010</td>\n",
       "      <td>2015-11-20 03:35:20</td>\n",
       "      <td>Here is George. George took a selfie of his ne...</td>\n",
       "      <td>https://twitter.com/dog_rates/status/667546741...</td>\n",
       "      <td>9</td>\n",
       "      <td>10</td>\n",
       "      <td>George</td>\n",
       "      <td>None</td>\n",
       "      <td>https://pbs.twimg.com/media/CUOaOWXWcAA0_Jy.jpg</td>\n",
       "      <td>toy_poodle</td>\n",
       "      <td>0.787424</td>\n",
       "      <td>115.0</td>\n",
       "      <td>322.0</td>\n",
       "    </tr>\n",
       "    <tr>\n",
       "      <th>4</th>\n",
       "      <td>667544320556335104</td>\n",
       "      <td>2015-11-20 03:25:43</td>\n",
       "      <td>This is Kial. Kial is either wearing a cape, w...</td>\n",
       "      <td>https://twitter.com/dog_rates/status/667544320...</td>\n",
       "      <td>10</td>\n",
       "      <td>10</td>\n",
       "      <td>Kial</td>\n",
       "      <td>None</td>\n",
       "      <td>https://pbs.twimg.com/media/CUOYBbbWIAAXQGU.jpg</td>\n",
       "      <td>pomeranian</td>\n",
       "      <td>0.412893</td>\n",
       "      <td>493.0</td>\n",
       "      <td>813.0</td>\n",
       "    </tr>\n",
       "  </tbody>\n",
       "</table>\n",
       "</div>"
      ],
      "text/plain": [
       "             tweet_id            timestamp  \\\n",
       "0  667550904950915073  2015-11-20 03:51:52   \n",
       "1  667550882905632768  2015-11-20 03:51:47   \n",
       "2  667549055577362432  2015-11-20 03:44:31   \n",
       "3  667546741521195010  2015-11-20 03:35:20   \n",
       "4  667544320556335104  2015-11-20 03:25:43   \n",
       "\n",
       "                                                text  \\\n",
       "0  RT @dogratingrating: Exceptional talent. Origi...   \n",
       "1  RT @dogratingrating: Unoriginal idea. Blatant ...   \n",
       "2  Never seen dog like this. Breathes heavy. Tilt...   \n",
       "3  Here is George. George took a selfie of his ne...   \n",
       "4  This is Kial. Kial is either wearing a cape, w...   \n",
       "\n",
       "                                       expanded_urls  rating_numerator  \\\n",
       "0  https://twitter.com/dogratingrating/status/667...                12   \n",
       "1  https://twitter.com/dogratingrating/status/667...                 5   \n",
       "2  https://twitter.com/dog_rates/status/667549055...                 1   \n",
       "3  https://twitter.com/dog_rates/status/667546741...                 9   \n",
       "4  https://twitter.com/dog_rates/status/667544320...                10   \n",
       "\n",
       "   rating_denominator    name dog_stage  \\\n",
       "0                  10    None      None   \n",
       "1                  10    None      None   \n",
       "2                  10    None      None   \n",
       "3                  10  George      None   \n",
       "4                  10    Kial      None   \n",
       "\n",
       "                                           jpg_url    dog_type  conf_rate  \\\n",
       "0  https://pbs.twimg.com/media/CUOb_gUUkAACXdS.jpg      vizsla   0.000081   \n",
       "1  https://pbs.twimg.com/media/CUObvUJVEAAnYPF.jpg        None   0.000000   \n",
       "2  https://pbs.twimg.com/media/CUOcVCwWsAERUKY.jpg        None   0.000000   \n",
       "3  https://pbs.twimg.com/media/CUOaOWXWcAA0_Jy.jpg  toy_poodle   0.787424   \n",
       "4  https://pbs.twimg.com/media/CUOYBbbWIAAXQGU.jpg  pomeranian   0.412893   \n",
       "\n",
       "   retweet_count  favorite_count  \n",
       "0           31.0             0.0  \n",
       "1           31.0             0.0  \n",
       "2         2112.0          5476.0  \n",
       "3          115.0           322.0  \n",
       "4          493.0           813.0  "
      ]
     },
     "execution_count": 1,
     "metadata": {},
     "output_type": "execute_result"
    }
   ],
   "source": [
    "import pandas as pd\n",
    "import matplotlib.pyplot as plt\n",
    "%matplotlib inline\n",
    "df = pd.read_csv('twitter_archive_master.csv')\n",
    "df.head()"
   ]
  },
  {
   "cell_type": "markdown",
   "metadata": {},
   "source": [
    "### 1. The 10 Most and Least Average Rated Dog Type"
   ]
  },
  {
   "cell_type": "code",
   "execution_count": 2,
   "metadata": {},
   "outputs": [
    {
     "data": {
      "text/html": [
       "<div>\n",
       "<style scoped>\n",
       "    .dataframe tbody tr th:only-of-type {\n",
       "        vertical-align: middle;\n",
       "    }\n",
       "\n",
       "    .dataframe tbody tr th {\n",
       "        vertical-align: top;\n",
       "    }\n",
       "\n",
       "    .dataframe thead th {\n",
       "        text-align: right;\n",
       "    }\n",
       "</style>\n",
       "<table border=\"1\" class=\"dataframe\">\n",
       "  <thead>\n",
       "    <tr style=\"text-align: right;\">\n",
       "      <th></th>\n",
       "      <th>rate</th>\n",
       "    </tr>\n",
       "    <tr>\n",
       "      <th>dog_type</th>\n",
       "      <th></th>\n",
       "    </tr>\n",
       "  </thead>\n",
       "  <tbody>\n",
       "    <tr>\n",
       "      <th>clumber</th>\n",
       "      <td>2.700000</td>\n",
       "    </tr>\n",
       "    <tr>\n",
       "      <th>bouvier_des_flandres</th>\n",
       "      <td>1.300000</td>\n",
       "    </tr>\n",
       "    <tr>\n",
       "      <th>saluki</th>\n",
       "      <td>1.250000</td>\n",
       "    </tr>\n",
       "    <tr>\n",
       "      <th>pomeranian</th>\n",
       "      <td>1.247619</td>\n",
       "    </tr>\n",
       "    <tr>\n",
       "      <th>briard</th>\n",
       "      <td>1.233333</td>\n",
       "    </tr>\n",
       "    <tr>\n",
       "      <th>tibetan_mastiff</th>\n",
       "      <td>1.225000</td>\n",
       "    </tr>\n",
       "    <tr>\n",
       "      <th>irish_setter</th>\n",
       "      <td>1.220000</td>\n",
       "    </tr>\n",
       "    <tr>\n",
       "      <th>border_terrier</th>\n",
       "      <td>1.214286</td>\n",
       "    </tr>\n",
       "    <tr>\n",
       "      <th>silky_terrier</th>\n",
       "      <td>1.200000</td>\n",
       "    </tr>\n",
       "    <tr>\n",
       "      <th>standard_schnauzer</th>\n",
       "      <td>1.200000</td>\n",
       "    </tr>\n",
       "  </tbody>\n",
       "</table>\n",
       "</div>"
      ],
      "text/plain": [
       "                          rate\n",
       "dog_type                      \n",
       "clumber               2.700000\n",
       "bouvier_des_flandres  1.300000\n",
       "saluki                1.250000\n",
       "pomeranian            1.247619\n",
       "briard                1.233333\n",
       "tibetan_mastiff       1.225000\n",
       "irish_setter          1.220000\n",
       "border_terrier        1.214286\n",
       "silky_terrier         1.200000\n",
       "standard_schnauzer    1.200000"
      ]
     },
     "execution_count": 2,
     "metadata": {},
     "output_type": "execute_result"
    }
   ],
   "source": [
    "df['rate'] = df['rating_numerator'] / df['rating_denominator']\n",
    "df_rate_dog = df[df['dog_type'] != 'None'][['dog_type', 'rate']].groupby('dog_type').mean()\n",
    "df_rate_dog = df_rate_dog.sort_values(by='rate', ascending=False)\n",
    "df_rate_dog.head(10)"
   ]
  },
  {
   "cell_type": "code",
   "execution_count": 3,
   "metadata": {},
   "outputs": [
    {
     "data": {
      "text/html": [
       "<div>\n",
       "<style scoped>\n",
       "    .dataframe tbody tr th:only-of-type {\n",
       "        vertical-align: middle;\n",
       "    }\n",
       "\n",
       "    .dataframe tbody tr th {\n",
       "        vertical-align: top;\n",
       "    }\n",
       "\n",
       "    .dataframe thead th {\n",
       "        text-align: right;\n",
       "    }\n",
       "</style>\n",
       "<table border=\"1\" class=\"dataframe\">\n",
       "  <thead>\n",
       "    <tr style=\"text-align: right;\">\n",
       "      <th></th>\n",
       "      <th>rate</th>\n",
       "    </tr>\n",
       "    <tr>\n",
       "      <th>dog_type</th>\n",
       "      <th></th>\n",
       "    </tr>\n",
       "  </thead>\n",
       "  <tbody>\n",
       "    <tr>\n",
       "      <th>japanese_spaniel</th>\n",
       "      <td>0.500000</td>\n",
       "    </tr>\n",
       "    <tr>\n",
       "      <th>soft-coated_wheaten_terrier</th>\n",
       "      <td>0.880000</td>\n",
       "    </tr>\n",
       "    <tr>\n",
       "      <th>scotch_terrier</th>\n",
       "      <td>0.900000</td>\n",
       "    </tr>\n",
       "    <tr>\n",
       "      <th>walker_hound</th>\n",
       "      <td>0.900000</td>\n",
       "    </tr>\n",
       "    <tr>\n",
       "      <th>tibetan_terrier</th>\n",
       "      <td>0.925000</td>\n",
       "    </tr>\n",
       "    <tr>\n",
       "      <th>dalmatian</th>\n",
       "      <td>0.933333</td>\n",
       "    </tr>\n",
       "    <tr>\n",
       "      <th>boston_bull</th>\n",
       "      <td>0.941667</td>\n",
       "    </tr>\n",
       "    <tr>\n",
       "      <th>welsh_springer_spaniel</th>\n",
       "      <td>0.950000</td>\n",
       "    </tr>\n",
       "    <tr>\n",
       "      <th>maltese_dog</th>\n",
       "      <td>0.952632</td>\n",
       "    </tr>\n",
       "    <tr>\n",
       "      <th>dandie_dinmont</th>\n",
       "      <td>0.957143</td>\n",
       "    </tr>\n",
       "  </tbody>\n",
       "</table>\n",
       "</div>"
      ],
      "text/plain": [
       "                                 rate\n",
       "dog_type                             \n",
       "japanese_spaniel             0.500000\n",
       "soft-coated_wheaten_terrier  0.880000\n",
       "scotch_terrier               0.900000\n",
       "walker_hound                 0.900000\n",
       "tibetan_terrier              0.925000\n",
       "dalmatian                    0.933333\n",
       "boston_bull                  0.941667\n",
       "welsh_springer_spaniel       0.950000\n",
       "maltese_dog                  0.952632\n",
       "dandie_dinmont               0.957143"
      ]
     },
     "execution_count": 3,
     "metadata": {},
     "output_type": "execute_result"
    }
   ],
   "source": [
    "df_rate_dog.tail(10).sort_values(by='rate', ascending=True)"
   ]
  },
  {
   "cell_type": "markdown",
   "metadata": {},
   "source": [
    "In this data we can see that based on average rate on dog type, the most rated one is Clumber with average rate 2.7, and unfortunately the Japanese Spaniel has the least rated dog with average rating just 0.5"
   ]
  },
  {
   "cell_type": "markdown",
   "metadata": {},
   "source": [
    "### 2. The 10 Most and Least Average Favorite Dog Type"
   ]
  },
  {
   "cell_type": "code",
   "execution_count": 4,
   "metadata": {},
   "outputs": [
    {
     "data": {
      "text/html": [
       "<div>\n",
       "<style scoped>\n",
       "    .dataframe tbody tr th:only-of-type {\n",
       "        vertical-align: middle;\n",
       "    }\n",
       "\n",
       "    .dataframe tbody tr th {\n",
       "        vertical-align: top;\n",
       "    }\n",
       "\n",
       "    .dataframe thead th {\n",
       "        text-align: right;\n",
       "    }\n",
       "</style>\n",
       "<table border=\"1\" class=\"dataframe\">\n",
       "  <thead>\n",
       "    <tr style=\"text-align: right;\">\n",
       "      <th></th>\n",
       "      <th>favorite_count</th>\n",
       "    </tr>\n",
       "    <tr>\n",
       "      <th>dog_type</th>\n",
       "      <th></th>\n",
       "    </tr>\n",
       "  </thead>\n",
       "  <tbody>\n",
       "    <tr>\n",
       "      <th>bedlington_terrier</th>\n",
       "      <td>22773.333333</td>\n",
       "    </tr>\n",
       "    <tr>\n",
       "      <th>saluki</th>\n",
       "      <td>22006.750000</td>\n",
       "    </tr>\n",
       "    <tr>\n",
       "      <th>french_bulldog</th>\n",
       "      <td>17104.137931</td>\n",
       "    </tr>\n",
       "    <tr>\n",
       "      <th>bouvier_des_flandres</th>\n",
       "      <td>16301.000000</td>\n",
       "    </tr>\n",
       "    <tr>\n",
       "      <th>black-and-tan_coonhound</th>\n",
       "      <td>15506.500000</td>\n",
       "    </tr>\n",
       "    <tr>\n",
       "      <th>flat-coated_retriever</th>\n",
       "      <td>15339.250000</td>\n",
       "    </tr>\n",
       "    <tr>\n",
       "      <th>irish_water_spaniel</th>\n",
       "      <td>14832.000000</td>\n",
       "    </tr>\n",
       "    <tr>\n",
       "      <th>leonberg</th>\n",
       "      <td>13447.666667</td>\n",
       "    </tr>\n",
       "    <tr>\n",
       "      <th>whippet</th>\n",
       "      <td>13366.272727</td>\n",
       "    </tr>\n",
       "    <tr>\n",
       "      <th>border_terrier</th>\n",
       "      <td>12348.000000</td>\n",
       "    </tr>\n",
       "  </tbody>\n",
       "</table>\n",
       "</div>"
      ],
      "text/plain": [
       "                         favorite_count\n",
       "dog_type                               \n",
       "bedlington_terrier         22773.333333\n",
       "saluki                     22006.750000\n",
       "french_bulldog             17104.137931\n",
       "bouvier_des_flandres       16301.000000\n",
       "black-and-tan_coonhound    15506.500000\n",
       "flat-coated_retriever      15339.250000\n",
       "irish_water_spaniel        14832.000000\n",
       "leonberg                   13447.666667\n",
       "whippet                    13366.272727\n",
       "border_terrier             12348.000000"
      ]
     },
     "execution_count": 4,
     "metadata": {},
     "output_type": "execute_result"
    }
   ],
   "source": [
    "df_fav_dog = df[df['dog_type'] != 'None'][['dog_type', 'favorite_count']].groupby('dog_type').mean()\n",
    "df_fav_dog = df_fav_dog.sort_values(by='favorite_count', ascending=False)\n",
    "df_fav_dog.head(10)"
   ]
  },
  {
   "cell_type": "code",
   "execution_count": 5,
   "metadata": {},
   "outputs": [
    {
     "data": {
      "text/html": [
       "<div>\n",
       "<style scoped>\n",
       "    .dataframe tbody tr th:only-of-type {\n",
       "        vertical-align: middle;\n",
       "    }\n",
       "\n",
       "    .dataframe tbody tr th {\n",
       "        vertical-align: top;\n",
       "    }\n",
       "\n",
       "    .dataframe thead th {\n",
       "        text-align: right;\n",
       "    }\n",
       "</style>\n",
       "<table border=\"1\" class=\"dataframe\">\n",
       "  <thead>\n",
       "    <tr style=\"text-align: right;\">\n",
       "      <th></th>\n",
       "      <th>favorite_count</th>\n",
       "    </tr>\n",
       "    <tr>\n",
       "      <th>dog_type</th>\n",
       "      <th></th>\n",
       "    </tr>\n",
       "  </thead>\n",
       "  <tbody>\n",
       "    <tr>\n",
       "      <th>brabancon_griffon</th>\n",
       "      <td>797.333333</td>\n",
       "    </tr>\n",
       "    <tr>\n",
       "      <th>groenendael</th>\n",
       "      <td>1042.500000</td>\n",
       "    </tr>\n",
       "    <tr>\n",
       "      <th>japanese_spaniel</th>\n",
       "      <td>1202.000000</td>\n",
       "    </tr>\n",
       "    <tr>\n",
       "      <th>irish_wolfhound</th>\n",
       "      <td>1372.000000</td>\n",
       "    </tr>\n",
       "    <tr>\n",
       "      <th>tibetan_terrier</th>\n",
       "      <td>1661.250000</td>\n",
       "    </tr>\n",
       "    <tr>\n",
       "      <th>standard_schnauzer</th>\n",
       "      <td>1816.000000</td>\n",
       "    </tr>\n",
       "    <tr>\n",
       "      <th>scottish_deerhound</th>\n",
       "      <td>2056.750000</td>\n",
       "    </tr>\n",
       "    <tr>\n",
       "      <th>papillon</th>\n",
       "      <td>2242.714286</td>\n",
       "    </tr>\n",
       "    <tr>\n",
       "      <th>basenji</th>\n",
       "      <td>2250.777778</td>\n",
       "    </tr>\n",
       "    <tr>\n",
       "      <th>saint_bernard</th>\n",
       "      <td>2372.428571</td>\n",
       "    </tr>\n",
       "  </tbody>\n",
       "</table>\n",
       "</div>"
      ],
      "text/plain": [
       "                    favorite_count\n",
       "dog_type                          \n",
       "brabancon_griffon       797.333333\n",
       "groenendael            1042.500000\n",
       "japanese_spaniel       1202.000000\n",
       "irish_wolfhound        1372.000000\n",
       "tibetan_terrier        1661.250000\n",
       "standard_schnauzer     1816.000000\n",
       "scottish_deerhound     2056.750000\n",
       "papillon               2242.714286\n",
       "basenji                2250.777778\n",
       "saint_bernard          2372.428571"
      ]
     },
     "execution_count": 5,
     "metadata": {},
     "output_type": "execute_result"
    }
   ],
   "source": [
    "df_fav_dog.tail(10).sort_values(by='favorite_count', ascending=True)"
   ]
  },
  {
   "cell_type": "markdown",
   "metadata": {},
   "source": [
    "Based on average favorite on dog type, the most favorite one is Bedlington Terrier with more than 22 thousand on average favorite count, this is different from the most rated one which is clumber is the winner there. And for the least favorite one is Brabancon Griffon with just less than 800 average favorite count. The interesting part is, the Japanese Spaniel, the least rated dog, is the third on the least favorite dog type with just over thousand average favorite count"
   ]
  },
  {
   "cell_type": "markdown",
   "metadata": {},
   "source": [
    "### 3. Is There any Correlation between Retweet and Favorite Count??"
   ]
  },
  {
   "cell_type": "code",
   "execution_count": 8,
   "metadata": {},
   "outputs": [
    {
     "name": "stdout",
     "output_type": "stream",
     "text": [
      "Correlation between retweet count and favorite count : 0.80182325962\n"
     ]
    }
   ],
   "source": [
    "print('Correlation between retweet count and favorite count : ' + str(df.corr().loc['retweet_count', 'favorite_count']))"
   ]
  },
  {
   "cell_type": "code",
   "execution_count": 9,
   "metadata": {},
   "outputs": [
    {
     "data": {
      "image/png": "[encoded data removed]",
      "text/plain": [
       "<matplotlib.figure.Figure at 0x7fa915adfcf8>"
      ]
     },
     "metadata": {
      "needs_background": "light"
     },
     "output_type": "display_data"
    }
   ],
   "source": [
    "plt.scatter(df['favorite_count'], df['retweet_count'])\n",
    "plt.title('Relationship between Retweet and Favorite Count')\n",
    "plt.xlabel('Favorite')\n",
    "plt.ylabel('Retweet');"
   ]
  },
  {
   "cell_type": "markdown",
   "metadata": {},
   "source": [
    "There is a strong indication that retweet count and favorite count has positive correlation with +0.8 correlation coefficient and the scatter plot represents it even though not too strong enough to make a clear conclusion on this one."
   ]
  },
  {
   "cell_type": "markdown",
   "metadata": {},
   "source": [
    "### 4. The 10 Most Common Dog Type"
   ]
  },
  {
   "cell_type": "code",
   "execution_count": 10,
   "metadata": {},
   "outputs": [
    {
     "data": {
      "text/plain": [
       "golden_retriever      158\n",
       "labrador_retriever    105\n",
       "pembroke               94\n",
       "chihuahua              89\n",
       "pug                    63\n",
       "toy_poodle             50\n",
       "chow                   48\n",
       "pomeranian             42\n",
       "samoyed                41\n",
       "malamute               33\n",
       "Name: dog_type, dtype: int64"
      ]
     },
     "execution_count": 10,
     "metadata": {},
     "output_type": "execute_result"
    }
   ],
   "source": [
    "df_dog_type = df[df['dog_type'] != 'None'].dog_type.value_counts()\n",
    "df_dog_type = df_dog_type[:10]\n",
    "df_dog_type"
   ]
  },
  {
   "cell_type": "code",
   "execution_count": 12,
   "metadata": {},
   "outputs": [
    {
     "data": {
      "image/png": "[encoded data removed]",
      "text/plain": [
       "<matplotlib.figure.Figure at 0x7fa913ab8908>"
      ]
     },
     "metadata": {
      "needs_background": "light"
     },
     "output_type": "display_data"
    }
   ],
   "source": [
    "df_dog_type.sort_values(ascending=True).plot.barh(fontsize=13, figsize=(9, 9), width=0.75)\n",
    "plt.title(\"The 10 Most Common Dog Type\", fontsize=13)\n",
    "plt.xlabel('Number of Dog Type Occurred', fontsize=13)\n",
    "plt.ylabel('Type of dog', fontsize=13);"
   ]
  },
  {
   "cell_type": "markdown",
   "metadata": {},
   "source": [
    "From this visualization is we know that the Golden Retriever is the most common type of dogs with more than 140 occurred in WeRateDogs tweet."
   ]
  }
 ],
 "metadata": {
  "kernelspec": {
   "display_name": "Python 3",
   "language": "python",
   "name": "python3"
  },
  "language_info": {
   "codemirror_mode": {
    "name": "ipython",
    "version": 3
   },
   "file_extension": ".py",
   "mimetype": "text/x-python",
   "name": "python",
   "nbconvert_exporter": "python",
   "pygments_lexer": "ipython3",
   "version": "3.6.3"
  }
 },
 "nbformat": 4,
 "nbformat_minor": 2
}
