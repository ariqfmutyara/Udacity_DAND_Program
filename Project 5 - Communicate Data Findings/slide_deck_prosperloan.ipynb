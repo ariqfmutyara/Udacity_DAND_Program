{
 "cells": [
  {
   "cell_type": "markdown",
   "metadata": {
    "slideshow": {
     "slide_type": "slide"
    }
   },
   "source": [
    "# Effect of Borrower APR Rate\n",
    "###### Muhammad Ariq Farhansyah Mutyara"
   ]
  },
  {
   "cell_type": "markdown",
   "metadata": {
    "slideshow": {
     "slide_type": "slide"
    }
   },
   "source": [
    "## Investigation Overview\n",
    "\n",
    "In this investigation, We would like to see what affects the borrower's APR, The main focus that the Prosper Rating and Prosper Score. We also want to look at Loan Status, Income Range, and Occupation to see whether it is affected borrower's APR or not.\n",
    "\n",
    "## Dataset Overview\n",
    "\n",
    "There are more than 75,000 Borrower in the dataset with 14 features included Borrower APR, Prosper Rating, and Prosper Score, etc. "
   ]
  },
  {
   "cell_type": "code",
   "execution_count": 2,
   "metadata": {
    "slideshow": {
     "slide_type": "skip"
    }
   },
   "outputs": [],
   "source": [
    "#Import all essential packages\n",
    "import numpy as np\n",
    "import pandas as pd\n",
    "import seaborn as sns\n",
    "import matplotlib.pyplot as plt\n",
    "\n",
    "%matplotlib inline\n",
    "\n",
    "#Suppress warnings from final output\n",
    "import warnings\n",
    "warnings.simplefilter(\"ignore\")"
   ]
  },
  {
   "cell_type": "code",
   "execution_count": 3,
   "metadata": {
    "slideshow": {
     "slide_type": "skip"
    }
   },
   "outputs": [
    {
     "data": {
      "text/html": [
       "<div>\n",
       "<style scoped>\n",
       "    .dataframe tbody tr th:only-of-type {\n",
       "        vertical-align: middle;\n",
       "    }\n",
       "\n",
       "    .dataframe tbody tr th {\n",
       "        vertical-align: top;\n",
       "    }\n",
       "\n",
       "    .dataframe thead th {\n",
       "        text-align: right;\n",
       "    }\n",
       "</style>\n",
       "<table border=\"1\" class=\"dataframe\">\n",
       "  <thead>\n",
       "    <tr style=\"text-align: right;\">\n",
       "      <th></th>\n",
       "      <th>ListingNumber</th>\n",
       "      <th>Term</th>\n",
       "      <th>LoanStatus</th>\n",
       "      <th>BorrowerAPR</th>\n",
       "      <th>ProsperRating</th>\n",
       "      <th>ProsperScore</th>\n",
       "      <th>BorrowerState</th>\n",
       "      <th>Occupation</th>\n",
       "      <th>DebtToIncomeRatio</th>\n",
       "      <th>IncomeRange</th>\n",
       "      <th>LoanOriginalAmount</th>\n",
       "      <th>MonthlyLoanPayment</th>\n",
       "      <th>Investors</th>\n",
       "    </tr>\n",
       "  </thead>\n",
       "  <tbody>\n",
       "    <tr>\n",
       "      <th>0</th>\n",
       "      <td>1209647</td>\n",
       "      <td>36</td>\n",
       "      <td>Current</td>\n",
       "      <td>0.12016</td>\n",
       "      <td>A</td>\n",
       "      <td>7</td>\n",
       "      <td>CO</td>\n",
       "      <td>Professional</td>\n",
       "      <td>0.18</td>\n",
       "      <td>$50,000-74,999</td>\n",
       "      <td>10000</td>\n",
       "      <td>318.93</td>\n",
       "      <td>1</td>\n",
       "    </tr>\n",
       "    <tr>\n",
       "      <th>1</th>\n",
       "      <td>658116</td>\n",
       "      <td>36</td>\n",
       "      <td>Current</td>\n",
       "      <td>0.12528</td>\n",
       "      <td>A</td>\n",
       "      <td>9</td>\n",
       "      <td>GA</td>\n",
       "      <td>Skilled Labor</td>\n",
       "      <td>0.15</td>\n",
       "      <td>$25,000-49,999</td>\n",
       "      <td>10000</td>\n",
       "      <td>321.45</td>\n",
       "      <td>158</td>\n",
       "    </tr>\n",
       "    <tr>\n",
       "      <th>2</th>\n",
       "      <td>909464</td>\n",
       "      <td>36</td>\n",
       "      <td>Current</td>\n",
       "      <td>0.24614</td>\n",
       "      <td>D</td>\n",
       "      <td>4</td>\n",
       "      <td>MN</td>\n",
       "      <td>Executive</td>\n",
       "      <td>0.26</td>\n",
       "      <td>$100,000+</td>\n",
       "      <td>15000</td>\n",
       "      <td>563.97</td>\n",
       "      <td>20</td>\n",
       "    </tr>\n",
       "    <tr>\n",
       "      <th>3</th>\n",
       "      <td>1074836</td>\n",
       "      <td>60</td>\n",
       "      <td>Current</td>\n",
       "      <td>0.15425</td>\n",
       "      <td>B</td>\n",
       "      <td>10</td>\n",
       "      <td>NM</td>\n",
       "      <td>Professional</td>\n",
       "      <td>0.36</td>\n",
       "      <td>$100,000+</td>\n",
       "      <td>15000</td>\n",
       "      <td>342.37</td>\n",
       "      <td>1</td>\n",
       "    </tr>\n",
       "    <tr>\n",
       "      <th>4</th>\n",
       "      <td>750899</td>\n",
       "      <td>36</td>\n",
       "      <td>Current</td>\n",
       "      <td>0.31032</td>\n",
       "      <td>E</td>\n",
       "      <td>2</td>\n",
       "      <td>KS</td>\n",
       "      <td>Sales - Retail</td>\n",
       "      <td>0.27</td>\n",
       "      <td>$25,000-49,999</td>\n",
       "      <td>3000</td>\n",
       "      <td>122.67</td>\n",
       "      <td>1</td>\n",
       "    </tr>\n",
       "  </tbody>\n",
       "</table>\n",
       "</div>"
      ],
      "text/plain": [
       "   ListingNumber  Term LoanStatus  BorrowerAPR ProsperRating  ProsperScore  \\\n",
       "0        1209647    36    Current      0.12016             A             7   \n",
       "1         658116    36    Current      0.12528             A             9   \n",
       "2         909464    36    Current      0.24614             D             4   \n",
       "3        1074836    60    Current      0.15425             B            10   \n",
       "4         750899    36    Current      0.31032             E             2   \n",
       "\n",
       "  BorrowerState      Occupation  DebtToIncomeRatio     IncomeRange  \\\n",
       "0            CO    Professional               0.18  $50,000-74,999   \n",
       "1            GA   Skilled Labor               0.15  $25,000-49,999   \n",
       "2            MN       Executive               0.26       $100,000+   \n",
       "3            NM    Professional               0.36       $100,000+   \n",
       "4            KS  Sales - Retail               0.27  $25,000-49,999   \n",
       "\n",
       "   LoanOriginalAmount  MonthlyLoanPayment  Investors  \n",
       "0               10000              318.93          1  \n",
       "1               10000              321.45        158  \n",
       "2               15000              563.97         20  \n",
       "3               15000              342.37          1  \n",
       "4                3000              122.67          1  "
      ]
     },
     "execution_count": 3,
     "metadata": {},
     "output_type": "execute_result"
    }
   ],
   "source": [
    "df = pd.read_csv('prosperLoanDataClean.csv')\n",
    "df.head()"
   ]
  },
  {
   "cell_type": "code",
   "execution_count": 5,
   "metadata": {
    "slideshow": {
     "slide_type": "skip"
    }
   },
   "outputs": [],
   "source": [
    "#Change the data type to categorical variabel\n",
    "\n",
    "#Term Column\n",
    "term = [12, 36, 60]\n",
    "term_order = pd.api.types.CategoricalDtype(ordered=True, categories=term)\n",
    "df['Term'] = df['Term'].astype(term_order)\n",
    "\n",
    "#LoanStatus Column\n",
    "df['LoanStatus'] = df['LoanStatus'].astype('category')\n",
    "\n",
    "#ProsperRating Column\n",
    "rating = ['HR', 'E', 'D', 'C', 'B', 'A', 'AA']\n",
    "rating_order = pd.api.types.CategoricalDtype(ordered=True, categories=rating)\n",
    "df['ProsperRating'] = df['ProsperRating'].astype(rating_order)\n",
    "\n",
    "#ProsperScore Column\n",
    "score = [i for i in range(1,12)]\n",
    "score_order = pd.api.types.CategoricalDtype(ordered=True, categories=score)\n",
    "df['ProsperScore'] = df['ProsperScore'].astype(score_order)\n",
    "\n",
    "#BorrowerState Column\n",
    "df['BorrowerState'] = df['BorrowerState'].astype('category')\n",
    "\n",
    "#Occupation Column\n",
    "df['Occupation'] = df['Occupation'].astype('category')\n",
    "\n",
    "#IncomeRange Column\n",
    "income = ['$1-24,999', '$25,000-49,999', '$50,000-74,999', '$75,000-99,999', '$100,000+']\n",
    "income_order = pd.api.types.CategoricalDtype(ordered=True, categories=income)\n",
    "df['IncomeRange'] = df['IncomeRange'].astype(income_order)"
   ]
  },
  {
   "cell_type": "markdown",
   "metadata": {
    "slideshow": {
     "slide_type": "slide"
    }
   },
   "source": [
    "## Distribution of Borrower APR Rate\n",
    "\n",
    "The Borrower APR Rate looks like a normal distribution and with the mean and median value almost slightly the same. But there is some high peak in the range of 30% to 35%."
   ]
  },
  {
   "cell_type": "code",
   "execution_count": 8,
   "metadata": {
    "slideshow": {
     "slide_type": "subslide"
    }
   },
   "outputs": [
    {
     "data": {
      "image/png": "[encoded data removed]",
      "text/plain": [
       "<Figure size 432x288 with 1 Axes>"
      ]
     },
     "metadata": {
      "needs_background": "light"
     },
     "output_type": "display_data"
    }
   ],
   "source": [
    "bin_edges = np.arange(0, df['BorrowerAPR'].max()+0.022, 0.022)\n",
    "plt.hist(df['BorrowerAPR'], bins=bin_edges)\n",
    "plt.title('Distribution of Borrower APR Rate')\n",
    "plt.xlabel('Borrower APR Rate')\n",
    "plt.ylabel('Count')\n",
    "plt.xlim(0, 0.5);"
   ]
  },
  {
   "cell_type": "markdown",
   "metadata": {
    "slideshow": {
     "slide_type": "slide"
    }
   },
   "source": [
    "## Borrower APR Rate vs. Prosper Score and Prosper Rating\n",
    "\n",
    "There is a strong evidence that Prosper Score and Prosper Rating has a linear realtionship with Borrower APR Rate. With the higher the score or rating is, the lower the Borrower APR Rate would be."
   ]
  },
  {
   "cell_type": "code",
   "execution_count": 9,
   "metadata": {
    "slideshow": {
     "slide_type": "subslide"
    }
   },
   "outputs": [
    {
     "data": {
      "image/png": "[encoded data removed]",
      "text/plain": [
       "<Figure size 864x288 with 2 Axes>"
      ]
     },
     "metadata": {
      "needs_background": "light"
     },
     "output_type": "display_data"
    }
   ],
   "source": [
    "base_color = sns.color_palette()[0]\n",
    "fig, axes = plt.subplots(1, 2, figsize=[12, 4], sharey=True)\n",
    "\n",
    "sns.barplot(ax=axes[0], data=df, x='ProsperRating', y='BorrowerAPR', color=base_color)\n",
    "axes[0].set_title('Borrower APR Rate vs. Prosper Rating')\n",
    "axes[0].set_xlabel('Prosper Rating')\n",
    "axes[0].set_ylabel('Avg. Borrower APR Rate')\n",
    "sns.barplot(ax=axes[1], data=df, x='ProsperScore', y='BorrowerAPR', color=base_color)\n",
    "axes[1].set_title('Borrower APR Rate vs. Prosper Score')\n",
    "axes[1].set_xlabel('Prosper Score')\n",
    "axes[1].set_ylabel('Avg. Borrower APR Rate');"
   ]
  },
  {
   "cell_type": "markdown",
   "metadata": {
    "slideshow": {
     "slide_type": "slide"
    }
   },
   "source": [
    "## Borrower APR Rate vs. Loan Status vs. Borrower Income Range\n",
    "\n",
    "There is also obvious relationship when comparing Borrower APR Rate againts Loan Status and Income Range, with the more income they earn, the less likely they will get lower APR Rate, and also the most of the borrower who are defaulted tend to have a higher APR Rate than the other who are not defaulted. "
   ]
  },
  {
   "cell_type": "code",
   "execution_count": 10,
   "metadata": {
    "slideshow": {
     "slide_type": "subslide"
    }
   },
   "outputs": [
    {
     "data": {
      "image/png": "[encoded data removed]",
      "text/plain": [
       "<Figure size 720x360 with 1 Axes>"
      ]
     },
     "metadata": {
      "needs_background": "light"
     },
     "output_type": "display_data"
    }
   ],
   "source": [
    "plt.figure(figsize = [10, 5])\n",
    "sns.barplot(data=df, x='LoanStatus', y='BorrowerAPR', hue='IncomeRange', palette='colorblind')\n",
    "plt.legend(title='Borrower Income Range', bbox_to_anchor=(1, 1))\n",
    "plt.title('Borrower APR Rate vs. Loan Status vs. Borrower Income Range')\n",
    "plt.xlabel('Loan Status')\n",
    "plt.ylabel('Avg. Borrower APR Rate');"
   ]
  },
  {
   "cell_type": "markdown",
   "metadata": {
    "slideshow": {
     "slide_type": "slide"
    }
   },
   "source": [
    "## Thank You"
   ]
  }
 ],
 "metadata": {
  "celltoolbar": "Slideshow",
  "kernelspec": {
   "display_name": "Python 3",
   "language": "python",
   "name": "python3"
  },
  "language_info": {
   "codemirror_mode": {
    "name": "ipython",
    "version": 3
   },
   "file_extension": ".py",
   "mimetype": "text/x-python",
   "name": "python",
   "nbconvert_exporter": "python",
   "pygments_lexer": "ipython3",
   "version": "3.7.6"
  }
 },
 "nbformat": 4,
 "nbformat_minor": 4
}
